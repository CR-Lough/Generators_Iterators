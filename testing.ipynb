{
 "cells": [
  {
   "cell_type": "code",
   "execution_count": 41,
   "metadata": {},
   "outputs": [],
   "source": [
    "import os\n",
    "import pandas as pd\n",
    "from sqlalchemy import create_engine\n"
   ]
  },
  {
   "cell_type": "code",
   "execution_count": null,
   "metadata": {},
   "outputs": [],
   "source": [
    "try:\n",
    "    os.remove(\"twitter.db\")\n",
    "except FileNotFoundError:\n",
    "    pass\n",
    "\n",
    "status_table = pd.read_csv(\"status_updates.csv\", encoding=\"utf-8\")\n",
    "users_table = pd.read_csv(\"accounts.csv\", encoding=\"utf-8\")\n",
    "\n",
    "engine = create_engine('sqlite:///twitter.db', echo=True)\n",
    "sqlite_connection = engine.connect()\n",
    "\n",
    "users_table.to_sql(\"users_table\", sqlite_connection, if_exists='fail')\n",
    "status_table.to_sql(\"status_table\", sqlite_connection, if_exists='fail')\n",
    "\n",
    "\n",
    "execute = sqlite_connection.execute(\"SELECT user_id, user_name FROM users_table LIMIT 10\")\n",
    "\n",
    "result = sorted([row[0] for row in execute])\n",
    "print(result)\n"
   ]
  },
  {
   "cell_type": "code",
   "execution_count": 42,
   "metadata": {},
   "outputs": [
    {
     "name": "stdout",
     "output_type": "stream",
     "text": [
      "2022-05-14 16:45:23,473 INFO sqlalchemy.engine.base.Engine SELECT CAST('test plain returns' AS VARCHAR(60)) AS anon_1\n",
      "2022-05-14 16:45:23,473 INFO sqlalchemy.engine.base.Engine ()\n",
      "2022-05-14 16:45:23,474 INFO sqlalchemy.engine.base.Engine SELECT CAST('test unicode returns' AS VARCHAR(60)) AS anon_1\n",
      "2022-05-14 16:45:23,474 INFO sqlalchemy.engine.base.Engine ()\n",
      "2022-05-14 16:45:23,485 INFO sqlalchemy.engine.base.Engine PRAGMA table_info(\"users_table\")\n",
      "2022-05-14 16:45:23,485 INFO sqlalchemy.engine.base.Engine ()\n",
      "2022-05-14 16:45:23,488 INFO sqlalchemy.engine.base.Engine \n",
      "CREATE TABLE users_table (\n",
      "\t\"index\" BIGINT, \n",
      "\t\"USER_ID\" TEXT, \n",
      "\t\"EMAIL\" TEXT, \n",
      "\t\"NAME\" TEXT, \n",
      "\t\"LASTNAME\" TEXT\n",
      ")\n",
      "\n",
      "\n",
      "2022-05-14 16:45:23,488 INFO sqlalchemy.engine.base.Engine ()\n",
      "2022-05-14 16:45:23,494 INFO sqlalchemy.engine.base.Engine COMMIT\n",
      "2022-05-14 16:45:23,496 INFO sqlalchemy.engine.base.Engine CREATE INDEX ix_users_table_index ON users_table (\"index\")\n",
      "2022-05-14 16:45:23,497 INFO sqlalchemy.engine.base.Engine ()\n",
      "2022-05-14 16:45:23,502 INFO sqlalchemy.engine.base.Engine COMMIT\n",
      "2022-05-14 16:45:23,504 INFO sqlalchemy.engine.base.Engine BEGIN (implicit)\n",
      "2022-05-14 16:45:23,508 INFO sqlalchemy.engine.base.Engine INSERT INTO users_table (\"index\", \"USER_ID\", \"EMAIL\", \"NAME\", \"LASTNAME\") VALUES (?, ?, ?, ?, ?)\n",
      "2022-05-14 16:45:23,509 INFO sqlalchemy.engine.base.Engine ((0, 'Brittaney.Gentry86', 'Brittaney', 'Gentry', 'Brittaney.Gentry86@goodmail.com'), (1, 'Keri.Royce8', 'Keri', 'Royce', 'Keri.Royce8@funmail.com'), (2, 'Michal.Hollyanne32', 'Michal', 'Hollyanne', 'Michal.Hollyanne32@funmail.com'), (3, 'Carolina.Mateusz51', 'Carolina', 'Mateusz', 'Carolina.Mateusz51@goodmail.com'), (4, 'Noni.Thetis66', 'Noni', 'Thetis', 'Noni.Thetis66@goodmail.com'), (5, 'Grata.Ozzy95', 'Grata', 'Ozzy', 'Grata.Ozzy95@testmail.com'), (6, 'Celisse.Schellens98', 'Celisse', 'Schellens', 'Celisse.Schellens98@funmail.com'), (7, 'Harli.Dupaix47', 'Harli', 'Dupaix', 'Harli.Dupaix47@funmail.com')  ... displaying 10 of 1000 total bound parameter sets ...  (998, 'Idette.Tenner70', 'Idette', 'Tenner', 'Idette.Tenner70@testmail.com'), (999, 'Danila.Ohara65', 'Danila', 'Ohara', 'Danila.Ohara65@testmail.com'))\n",
      "2022-05-14 16:45:23,514 INFO sqlalchemy.engine.base.Engine COMMIT\n",
      "2022-05-14 16:45:23,542 INFO sqlalchemy.engine.base.Engine PRAGMA table_info(\"status_table\")\n",
      "2022-05-14 16:45:23,543 INFO sqlalchemy.engine.base.Engine ()\n",
      "2022-05-14 16:45:23,545 INFO sqlalchemy.engine.base.Engine \n",
      "CREATE TABLE status_table (\n",
      "\t\"index\" BIGINT, \n",
      "\t\"STATUS_ID\" TEXT, \n",
      "\t\"USER_ID\" TEXT, \n",
      "\t\"STATUS_TEXT\" TEXT\n",
      ")\n",
      "\n",
      "\n",
      "2022-05-14 16:45:23,546 INFO sqlalchemy.engine.base.Engine ()\n",
      "2022-05-14 16:45:23,551 INFO sqlalchemy.engine.base.Engine COMMIT\n",
      "2022-05-14 16:45:23,552 INFO sqlalchemy.engine.base.Engine CREATE INDEX ix_status_table_index ON status_table (\"index\")\n",
      "2022-05-14 16:45:23,553 INFO sqlalchemy.engine.base.Engine ()\n",
      "2022-05-14 16:45:23,559 INFO sqlalchemy.engine.base.Engine COMMIT\n",
      "2022-05-14 16:45:23,586 INFO sqlalchemy.engine.base.Engine BEGIN (implicit)\n",
      "2022-05-14 16:45:24,008 INFO sqlalchemy.engine.base.Engine INSERT INTO status_table (\"index\", \"STATUS_ID\", \"USER_ID\", \"STATUS_TEXT\") VALUES (?, ?, ?, ?)\n",
      "2022-05-14 16:45:24,009 INFO sqlalchemy.engine.base.Engine ((0, 'Isabel.Avivah34_27', 'Isabel.Avivah34', 'thinkable existence hug aback sky'), (1, 'Benedetta.Zola9_758', 'Benedetta.Zola9', 'cooing fireman withstand grotesque year'), (2, 'Winna.McKay71_321', 'Winna.McKay71', 'juvenile toothpaste fix odd breakfast'), (3, 'Elane.Viviyan28_397', 'Elane.Viviyan28', 'needy woman symbolize burly cakes'), (4, 'Phaidra.Fortuna55_639', 'Phaidra.Fortuna55', 'penitent tomatoes strive foamy jam'), (5, 'Flory.Hatfield83_467', 'Flory.Hatfield83', 'funny summer spoil cold songs'), (6, 'Nelli.Wayolle71_708', 'Nelli.Wayolle71', 'whimsical knowledge melt chilly parent'), (7, 'Gwendolyn.Mallis13_871', 'Gwendolyn.Mallis13', 'weary brick bathe old glove')  ... displaying 10 of 100000 total bound parameter sets ...  (99998, 'Gilberte.Viguerie67_197', 'Gilberte.Viguerie67', 'detailed winter license ugliest galley'), (99999, 'Mary.Freedman24_145', 'Mary.Freedman24', 'stale team thrust dirty basketball'))\n",
      "2022-05-14 16:45:24,212 INFO sqlalchemy.engine.base.Engine COMMIT\n",
      "2022-05-14 16:45:24,239 INFO sqlalchemy.engine.base.Engine SELECT user_id FROM users_table LIMIT 1\n",
      "2022-05-14 16:45:24,240 INFO sqlalchemy.engine.base.Engine ()\n",
      "['Brittaney.Gentry86']\n"
     ]
    }
   ],
   "source": [
    "try:\n",
    "    os.remove(\"twitter.db\")\n",
    "except FileNotFoundError:\n",
    "    pass\n",
    "\n",
    "status_table = pd.read_csv(\"status_updates.csv\", encoding=\"utf-8\")\n",
    "users_table = pd.read_csv(\"accounts.csv\", encoding=\"utf-8\")\n",
    "\n",
    "engine = create_engine(\"sqlite:///twitter.db\", echo=True)\n",
    "\n",
    "with engine.connect() as sqlite_connection:\n",
    "        users_table.to_sql(\"users_table\", sqlite_connection, if_exists='fail')\n",
    "        status_table.to_sql(\"status_table\", sqlite_connection, if_exists='fail')\n",
    "\n",
    "        execute = sqlite_connection.execute(\"SELECT user_id FROM users_table LIMIT 1\")\n",
    "\n",
    "        result = sorted([row[0] for row in execute])\n",
    "        print(result)\n"
   ]
  },
  {
   "cell_type": "code",
   "execution_count": 49,
   "metadata": {},
   "outputs": [
    {
     "name": "stdout",
     "output_type": "stream",
     "text": [
      "2022-05-14 16:51:09,312 INFO sqlalchemy.engine.base.Engine SELECT user_id, name FROM users_table LIMIT 10\n",
      "2022-05-14 16:51:09,313 INFO sqlalchemy.engine.base.Engine ()\n"
     ]
    }
   ],
   "source": [
    "with engine.connect() as sqlite_connection:\n",
    "        execute = sqlite_connection.execute(\"SELECT user_id, name FROM users_table LIMIT 10\")\n",
    "        result = sorted([row[0] for row in execute])\n",
    "        result"
   ]
  },
  {
   "cell_type": "code",
   "execution_count": 51,
   "metadata": {},
   "outputs": [],
   "source": [
    "csv_gen = (row for row in result)"
   ]
  },
  {
   "cell_type": "code",
   "execution_count": 54,
   "metadata": {},
   "outputs": [
    {
     "data": {
      "text/plain": [
       "('Celisse.Schellens98', 'Schellens')"
      ]
     },
     "execution_count": 54,
     "metadata": {},
     "output_type": "execute_result"
    }
   ],
   "source": [
    "next(csv_gen)"
   ]
  },
  {
   "cell_type": "code",
   "execution_count": null,
   "metadata": {},
   "outputs": [],
   "source": [
    "next"
   ]
  }
 ],
 "metadata": {
  "interpreter": {
   "hash": "8edc337219f6b2463171d1657809c141cb6157b6dfad1cf20786694b729510ee"
  },
  "kernelspec": {
   "display_name": "Python 3.6.6 ('jsage_env')",
   "language": "python",
   "name": "python3"
  },
  "language_info": {
   "codemirror_mode": {
    "name": "ipython",
    "version": 3
   },
   "file_extension": ".py",
   "mimetype": "text/x-python",
   "name": "python",
   "nbconvert_exporter": "python",
   "pygments_lexer": "ipython3",
   "version": "3.6.6"
  },
  "orig_nbformat": 4
 },
 "nbformat": 4,
 "nbformat_minor": 2
}
