{
 "cells": [
  {
   "cell_type": "code",
   "execution_count": 2,
   "metadata": {},
   "outputs": [],
   "source": [
    "import os\n",
    "import pandas as pd\n",
    "from sqlalchemy import create_engine\n"
   ]
  },
  {
   "cell_type": "code",
   "execution_count": null,
   "metadata": {},
   "outputs": [],
   "source": [
    "try:\n",
    "    os.remove(\"twitter.db\")\n",
    "except FileNotFoundError:\n",
    "    pass\n",
    "\n",
    "status_table = pd.read_csv(\"status_updates.csv\", encoding=\"utf-8\")\n",
    "users_table = pd.read_csv(\"accounts.csv\", encoding=\"utf-8\")\n",
    "\n",
    "engine = create_engine('sqlite:///twitter.db', echo=True)\n",
    "sqlite_connection = engine.connect()\n",
    "\n",
    "users_table.to_sql(\"users_table\", sqlite_connection, if_exists='fail')\n",
    "status_table.to_sql(\"status_table\", sqlite_connection, if_exists='fail')\n",
    "\n",
    "\n",
    "execute = sqlite_connection.execute(\"SELECT user_id, user_name FROM users_table LIMIT 10\")\n",
    "\n",
    "result = sorted([row[0] for row in execute])\n",
    "print(result)\n"
   ]
  },
  {
   "cell_type": "code",
   "execution_count": null,
   "metadata": {},
   "outputs": [],
   "source": [
    "try:\n",
    "    os.remove(\"twitter.db\")\n",
    "except FileNotFoundError:\n",
    "    pass\n",
    "\n",
    "status_table = pd.read_csv(\"status_updates.csv\", encoding=\"utf-8\")\n",
    "users_table = pd.read_csv(\"accounts.csv\", encoding=\"utf-8\")\n",
    "\n",
    "engine = create_engine(\"sqlite:///twitter.db\", echo=True)\n",
    "\n",
    "with engine.connect() as sqlite_connection:\n",
    "        users_table.to_sql(\"users_table\", sqlite_connection, if_exists='fail')\n",
    "        status_table.to_sql(\"status_table\", sqlite_connection, if_exists='fail')\n",
    "\n",
    "        execute = sqlite_connection.execute(\"SELECT user_id FROM users_table LIMIT 1\")\n",
    "\n",
    "        result = sorted([row[0] for row in execute])\n",
    "        print(result)\n"
   ]
  },
  {
   "cell_type": "code",
   "execution_count": 37,
   "metadata": {},
   "outputs": [
    {
     "name": "stdout",
     "output_type": "stream",
     "text": [
      "2022-05-14 16:21:02,928 INFO sqlalchemy.engine.base.Engine SELECT user_id, name FROM users_table LIMIT 10\n",
      "2022-05-14 16:21:02,929 INFO sqlalchemy.engine.base.Engine ()\n",
      "['Brittaney.Gentry86', 'Carolina.Mateusz51', 'Celisse.Schellens98', 'Emogene.Bassett59', 'Grata.Ozzy95', 'Harli.Dupaix47', 'Keri.Royce8', 'Michal.Hollyanne32', 'Minerva.Wilbert87', 'Noni.Thetis66']\n"
     ]
    }
   ],
   "source": [
    "with engine.connect() as sqlite_connection:\n",
    "        execute = sqlite_connection.execute(\"SELECT user_id, name FROM users_table LIMIT 10\")\n",
    "        result = sorted([row[0] for row in execute])\n",
    "        print(result)"
   ]
  },
  {
   "cell_type": "code",
   "execution_count": null,
   "metadata": {},
   "outputs": [],
   "source": []
  }
 ],
 "metadata": {
  "interpreter": {
   "hash": "8edc337219f6b2463171d1657809c141cb6157b6dfad1cf20786694b729510ee"
  },
  "kernelspec": {
   "display_name": "Python 3.6.6 ('jsage_env')",
   "language": "python",
   "name": "python3"
  },
  "language_info": {
   "codemirror_mode": {
    "name": "ipython",
    "version": 3
   },
   "file_extension": ".py",
   "mimetype": "text/x-python",
   "name": "python",
   "nbconvert_exporter": "python",
   "pygments_lexer": "ipython3",
   "version": "3.6.6"
  },
  "orig_nbformat": 4
 },
 "nbformat": 4,
 "nbformat_minor": 2
}
